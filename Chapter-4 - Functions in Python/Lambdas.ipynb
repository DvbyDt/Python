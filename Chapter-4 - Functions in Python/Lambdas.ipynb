{
 "cells": [
  {
   "cell_type": "code",
   "execution_count": 9,
   "metadata": {},
   "outputs": [
    {
     "name": "stdout",
     "output_type": "stream",
     "text": [
      "5\n",
      "7\n",
      "False\n",
      "6\n"
     ]
    }
   ],
   "source": [
    "def additon(a,b):\n",
    "    return a+b\n",
    "print(additon(2,3))\n",
    "\n",
    "#lambdas\n",
    "lambda_addition = lambda a,b:a+b\n",
    "print(lambda_addition(3,4))\n",
    "\n",
    "lambda_even = lambda num:num%2==0\n",
    "print(lambda_even(201))\n",
    "\n",
    "many_addition = lambda a,b,c:a+b+c\n",
    "print(many_addition(1,2,3))"
   ]
  },
  {
   "cell_type": "code",
   "execution_count": 19,
   "metadata": {},
   "outputs": [
    {
     "name": "stdout",
     "output_type": "stream",
     "text": [
      "[1, 4, 9, 16, 25, 36, 49]\n",
      "[1, 4, 9, 16, 25, 36, 49]\n",
      "[5, 7, 9]\n",
      "True\n"
     ]
    }
   ],
   "source": [
    "#Map function\n",
    "def square(num):\n",
    "    return num**2\n",
    "\n",
    "numbers = [1,2,3,4,5,6,7]\n",
    "print(list(map(square,numbers)))\n",
    "\n",
    "#Now converting the square function to lambda function\n",
    "print(list(map(lambda num:num**2,numbers)))\n",
    "\n",
    "#For multiple iterables\n",
    "num1 = [1,2,3]\n",
    "num2 = [4,5,6]\n",
    "num3 = list(map(lambda x,y:x+y,num1,num2))\n",
    "print(num3)\n",
    "\n",
    "\n",
    "#Applying it to a dictionary\n",
    "def get_name(people):\n",
    "    return people['name']\n",
    "\n",
    "people = [\n",
    "    {\"name\":\"Dhruv\", \"age\":27},\n",
    "    {\"name\":\"Jack\",  \"age\":30}\n",
    "]\n",
    "\n",
    "list(map(get_name,people))\n",
    "\n",
    "\n",
    "name=[\"Dhruv\",\"Vashist\",\"Is\",\"Fire\"]\n",
    "list(map(str.upper,name))"
   ]
  },
  {
   "cell_type": "code",
   "execution_count": 31,
   "metadata": {},
   "outputs": [
    {
     "name": "stdout",
     "output_type": "stream",
     "text": [
      "[6, 7, 8, 9, 10, 11, 12, 13, 14, 15]\n",
      "[6, 7, 8, 9, 10, 11, 12, 13, 14, 15]\n"
     ]
    }
   ],
   "source": [
    "#Filter in python\n",
    "nums = [1,2,3,4,5,6,7,8,9,10,11,12,13,14,15]\n",
    "print(list(filter(lambda num:num>5,nums)))\n",
    "\n",
    "def greater_than_5(num):\n",
    "    return num>5\n",
    "\n",
    "print(list(filter(greater_than_5,nums)))"
   ]
  },
  {
   "cell_type": "code",
   "execution_count": 34,
   "metadata": {},
   "outputs": [
    {
     "name": "stdout",
     "output_type": "stream",
     "text": [
      "7 4 and count:1\n",
      "7 4 and rem:3\n"
     ]
    },
    {
     "data": {
      "text/plain": [
       "2"
      ]
     },
     "execution_count": 34,
     "metadata": {},
     "output_type": "execute_result"
    }
   ],
   "source": [
    "def calculate_lift_rounds(n, capacity):\n",
    "    \"\"\"\n",
    "    Function to calculate the number of rounds the lift needs to cover.\n",
    "    \n",
    "    Parameters:\n",
    "    n (int): Total number of people.\n",
    "    capacity (int): Maximum number of people the lift can carry in one round.\n",
    "    \n",
    "    Returns:\n",
    "    int: The number of rounds required to transport all people to the top floor.\n",
    "    \"\"\"\n",
    "    # Your code here\n",
    "    count = int(n/capacity)\n",
    "    print(f\"{n} {capacity} and count:{count}\")\n",
    "    rem = n%capacity\n",
    "    print(f\"{n} {capacity} and rem:{rem}\")\n",
    "    if rem != 0:\n",
    "        rem=1\n",
    "    return count+rem\n",
    "\n",
    "calculate_lift_rounds(7,4)"
   ]
  },
  {
   "cell_type": "code",
   "execution_count": 35,
   "metadata": {},
   "outputs": [
    {
     "name": "stdout",
     "output_type": "stream",
     "text": [
      "<map object at 0x000001DEFD0AA500>\n"
     ]
    }
   ],
   "source": [
    "number = [1,2,3,4,5,6]\n",
    "def sum_list(numbers):\n",
    "    # Your code goes here\n",
    "    # sum = 0\n",
    "    # for i in numbers:\n",
    "        # sum+=i\n",
    "    val=0\n",
    "    sum = map(lambda num:val+num,numbers)\n",
    "    return sum\n",
    "\n",
    "print(sum_list(numbers))"
   ]
  },
  {
   "cell_type": "code",
   "execution_count": 36,
   "metadata": {},
   "outputs": [
    {
     "data": {
      "text/plain": [
       "[1, 2, 3]"
      ]
     },
     "execution_count": 36,
     "metadata": {},
     "output_type": "execute_result"
    }
   ],
   "source": [
    "def remove_duplicates(lst):\n",
    "    # Your code goes here\n",
    "    map_set = set()\n",
    "    for i in lst:\n",
    "        map_set.add(i)\n",
    "        \n",
    "    return list(map_set)\n",
    "\n",
    "remove_duplicates([1,1,1,2,2,2,3,3,3])"
   ]
  },
  {
   "cell_type": "code",
   "execution_count": 42,
   "metadata": {},
   "outputs": [
    {
     "name": "stdout",
     "output_type": "stream",
     "text": [
      "[4, 5, 1, 2, 3]\n"
     ]
    }
   ],
   "source": [
    "def rotate_list(lst, k):\n",
    "    # Your code goes here\n",
    "    reverse(lst,0,k)\n",
    "    reverse(lst,k+1,len(lst)-1)\n",
    "    reverse(lst,0,len(lst)-1)\n",
    "    \n",
    "\n",
    "def reverse(lst,si,ei):\n",
    "    while si<ei:\n",
    "        temp = lst[si]\n",
    "        lst[si] = lst[ei]\n",
    "        lst[ei] = temp\n",
    "        si+=1\n",
    "        ei-=1\n",
    "\n",
    "ans = [1,2,3,4,5]\n",
    "rotate_list(ans,2)\n",
    "print(ans)"
   ]
  },
  {
   "cell_type": "code",
   "execution_count": 44,
   "metadata": {},
   "outputs": [
    {
     "name": "stdout",
     "output_type": "stream",
     "text": [
      "{}\n"
     ]
    }
   ],
   "source": [
    "def merge_lists_to_dictionary(keys, values):\n",
    "    # Your code goes here\n",
    "    dict1 = {}    \n",
    "    return dict1\n",
    "\n",
    "# Input: keys = ['a', 'b', 'c'], values = [1, 2, 3]\n",
    "# Output: {'a': 1, 'b': 2, 'c': 3}\n",
    "print(merge_lists_to_dictionary(['a', 'b', 'c'],[1, 2, 3]))"
   ]
  },
  {
   "cell_type": "code",
   "execution_count": 47,
   "metadata": {},
   "outputs": [
    {
     "name": "stdout",
     "output_type": "stream",
     "text": [
      "{'Hello': 2, 'World': 1}\n"
     ]
    }
   ],
   "source": [
    "def count_word_frequency(sentence):\n",
    "    # Your code goes here\n",
    "    dict1 = {}\n",
    "    lst = sentence.split(\" \")\n",
    "    for i in lst:\n",
    "        if i not in dict1:\n",
    "            dict1[i]=1\n",
    "        else:\n",
    "            dict1[i]+=1\n",
    "\n",
    "    return dict1\n",
    "\n",
    "print(count_word_frequency(\"Hello World Hello\"))"
   ]
  }
 ],
 "metadata": {
  "kernelspec": {
   "display_name": "Python 3",
   "language": "python",
   "name": "python3"
  },
  "language_info": {
   "codemirror_mode": {
    "name": "ipython",
    "version": 3
   },
   "file_extension": ".py",
   "mimetype": "text/x-python",
   "name": "python",
   "nbconvert_exporter": "python",
   "pygments_lexer": "ipython3",
   "version": "3.10.15"
  }
 },
 "nbformat": 4,
 "nbformat_minor": 2
}
